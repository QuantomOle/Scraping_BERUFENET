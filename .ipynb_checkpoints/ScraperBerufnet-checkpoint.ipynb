{
 "cells": [
  {
   "cell_type": "code",
   "execution_count": 162,
   "metadata": {},
   "outputs": [],
   "source": [
    "import requests\n",
    "import unicodedata\n",
    "import re\n",
    "import pandas as pd \n",
    "from bs4 import BeautifulSoup as BS\n",
    "import os\n",
    "import numpy as np\n",
    "\n",
    "os.chdir('/Users/oleteutloff/Desktop/Scraping_BERUFENET')"
   ]
  },
  {
   "cell_type": "code",
   "execution_count": null,
   "metadata": {},
   "outputs": [],
   "source": [
    "# Create empty list with links\n",
    "list_link_clean = list()"
   ]
  },
  {
   "cell_type": "code",
   "execution_count": 4,
   "metadata": {
    "collapsed": true,
    "jupyter": {
     "outputs_hidden": true
    }
   },
   "outputs": [
    {
     "name": "stdout",
     "output_type": "stream",
     "text": [
      "[[<script src=\"/berufenet/adf/jsLibs/Locale1_2_12_3_3.js\" type=\"text/javascript\"></script>, <script type=\"text/javascript\">var AdfAssert = new Object();AdfAssert.DEBUG = false;</script>, <script src=\"/berufenet/afr/partition/unknown/n/default/opt/boot-11.1.1.9.0-0151.js\" type=\"text/javascript\"></script>, <script type=\"text/javascript\">AdfLogger.DEFAULT_LEVEL=AdfLogger.OFF;(AdfLogger.LOGGER=new AdfLogger('global', new AdfBufferedLogWriter())).register();var checkAgentSupport = true;AdfAgent._UNSUPPORTED_BROWSER_ALERT=\"Sie verwenden einen nicht unterstützten Browser. Genauere Informationen zu den unterstützten Browserversionen finden Sie in der Anwendungsdokumentation.\";AdfAgent.AGENT = AdfAgent.getAgent(window);var lookAndFeel = new AdfDhtmlLookAndFeel(window);AdfAgent._LOG_WRITERS = \"NativeLogWriter\";AdfPage.PAGE = lookAndFeel.createPage();var page = AdfPage.PAGE;page.setBaseResourceUrl(\"/berufenet\");page.__setAutomationEnabled(false);page.setAnimationEnabled(true);page.__setSessionIdentifier('mhmno2nl');page.__setOutputMode('default');</script>, <script src=\"/berufenet/afr/partition/unknown/n/default/opt/core-11.1.1.9.0-0151.js\" type=\"text/javascript\"></script>, <script src=\"/berufenet/afr/AdfTranslations-11.1.1.9.0-0151de_DE.js?loc=de_DE&amp;skinId=ben-style.desktop\" type=\"text/javascript\"></script>, <script src=\"/berufenet/script/AdfTranslations.js\" type=\"text/javascript\"></script>, <script src=\"/berufenet/js/jquery-3.5.1.min.js\" type=\"text/javascript\"></script>, <script src=\"/berufenet/script/jquery-accessibleMegaMenu.js?version=4.124.990c2b7\" type=\"text/javascript\"></script>, <script src=\"/berufenet/script/ben-common.js?version=4.124.990c2b7\" type=\"text/javascript\"></script>, <script src=\"/berufenet/script/berufenet.js?version=4.124.990c2b7\" type=\"text/javascript\"></script>, <script src=\"/berufenet/js/bapf-common.js?version=Version%204.124.990c2b7\" type=\"text/javascript\"></script>, <script src=\"/berufenet/js/egov/accessibleMenu-conf.js?version=Version%204.124.990c2b7\" type=\"text/javascript\"></script>, <script src=\"/berufenet/script/leaflet.js?version=4.124.990c2b7\" type=\"text/javascript\"></script>, <script type=\"text/javascript\">AdfDhtmlPage.__frameBusting(\"always\");</script>, <script src=\"/berufenet/afr/partition/unknown/n/default/opt/detail-11.1.1.9.0-0151.js\" type=\"text/javascript\"></script>, <script src=\"/berufenet/afr/partition/unknown/n/default/opt/box-11.1.1.9.0-0151.js\" type=\"text/javascript\"></script>, <script src=\"/berufenet/afr/partition/unknown/n/default/opt/region-11.1.1.9.0-0151.js\" type=\"text/javascript\"></script>, <script src=\"/berufenet/afr/partition/unknown/n/default/opt/message-11.1.1.9.0-0151.js\" type=\"text/javascript\"></script>, <script src=\"/berufenet/afr/partition/unknown/n/default/opt/print-11.1.1.9.0-0151.js\" type=\"text/javascript\"></script>, <script type=\"text/javascript\">AdfBootstrap._onLoad=function (){if (AdfPage.PAGE.__checkRichResponseDirty()) return;var isCachedPage = AdfPage.PAGE.__handleCachedPageForNewWindow('17rou0ysmp');if (!isCachedPage){window.name='17rou0ysmp';};AdfAgent.AGENT.elementsAdded(document);AdfDhtmlLookAndFeel.addSkinProperties({\"af|dialog-tr-open-animation-duration\":\"300\",\"af|messages::summary\":\"af_messages_summary\",\"AFPopupSelectorFooterStart\":\"AFPopupSelectorFooterStart\",\"af|message::container\":\"af_message_container\",\"AFPopupSelectorContentEnd\":\"AFPopupSelectorContentEnd\",\"af|message::detail-cell\":\"af_message_detail-cell\",\"AFPopupSelectorContent\":\"AFPopupSelectorContent\",\"af|messages::message-group-list\":\"af_messages_message-group-list\",\"af|message::component-messages-list-container\":\"af_message_component-messages-list-container\",\"af|dialog::resize-ghost\":\"af_dialog_resize-ghost\",\"AFPopupSelectorFooterEnd\":\"AFPopupSelectorFooterEnd\",\"af|messages::intro\":\"af_messages_intro\",\".AFPopupSelector-tr-animate\":\"true\",\"af|popup-tr-shadow-starting-black-percent\":100,\"AFPopupSelector\":\"AFPopupSelector\",\".AFWorkaround-tr-disable-property-delta-sync\":\"false\",\"af|popup-tr-shadow-pixel-size\":4,\"af|messages::message-group-type-separator\":\"af_messages_message-group-type-separator\",\"af|messages::message-group-title\":\"af_messages_message-group-title\",\"af|message::message-list-component\":\"af_message_message-list-component\",\"af|message::intro\":\"af_message_intro\",\"af|popup-tr-shadow-offset\":3,\"AFPopupSelectorHeader\":\"AFPopupSelectorHeader\",\"af|messages::detail\":\"af_messages_detail\",\"af|message::type\":\"af_message_type\",\"AFPopupSelectorHeaderStart\":\"AFPopupSelectorHeaderStart\",\"af|message::detail\":\"af_message_detail\",\"af|messages::header-text\":\"af_messages_header-text\",\".AFNoteWindow-tr-open-animation-duration\":\"200\",\"af|message::icon-cell\":\"af_message_icon-cell\",\"AFPopupSelectorContentStart\":\"AFPopupSelectorContentStart\",\"AFPopupSelectorFooter\":\"AFPopupSelectorFooter\",\"af|messages::message-list-page\":\"af_messages_message-list-page\",\"AFPopupSelectorHeaderEnd\":\"AFPopupSelectorHeaderEnd\",\".AFNoteWindow-tr-animate\":\"true\",\"af|messages::component-link\":\"af_messages_component-link\",\"af|dialog-tr-animate\":\"true\",\".AFPopupSelector-tr-open-animation-duration\":\"200\",\"af|message::summary\":\"af_message_summary\"});AdfPage.PAGE.addComponents(new AdfRichDocument('d1',{'title':'BERUFENET - Berufsinformationen einfach finden'}),new AdfRichForm('f1'),new AdfRichRegion('pt1:r1'),new AdfRichRegion('pt1:r1:0:pt1:pt_r3'),new AdfRichCommandLink('pt1:r1:0:pt1:pt_r3:0:bc0_menu_1st__home',{'partialSubmit':true,'shortDesc':'Zur Startseite'}),new AdfRichCommandLink('pt1:r1:0:pt1:pt_r3:0:_afrCommandDelegate',{'partialSubmit':true}),new AdfRichMessages('pt1:r1:0:pt1:fehler',{'inline':true,'styleClass':'BAPFHinweis'}),new AdfRichCommandLink('pt1:r1:0:pt1:pti_Link_A',{'letter':'A','accessKey':'\\uffff','disabled':true,'shortDesc':'','styleClass':'ben-az-paneltab-item Active'}),new AdfRichCommandLink('pt1:r1:0:pt1:pti_Link_B',{'letter':'B','accessKey':'\\uffff','shortDesc':'Alle Ergebnisse mit dem Buchstaben B anzeigen','styleClass':'ben-az-paneltab-item'}),new AdfRichCommandLink('pt1:r1:0:pt1:pti_Link_C',{'letter':'C','accessKey':'\\uffff','shortDesc':'Alle Ergebnisse mit dem Buchstaben C anzeigen','styleClass':'ben-az-paneltab-item'}),new AdfRichCommandLink('pt1:r1:0:pt1:pti_Link_D',{'letter':'D','accessKey':'\\uffff','shortDesc':'Alle Ergebnisse mit dem Buchstaben D anzeigen','styleClass':'ben-az-paneltab-item'}),new AdfRichCommandLink('pt1:r1:0:pt1:pti_Link_E',{'letter':'E','accessKey':'\\uffff','shortDesc':'Alle Ergebnisse mit dem Buchstaben E anzeigen','styleClass':'ben-az-paneltab-item'}),new AdfRichCommandLink('pt1:r1:0:pt1:pti_Link_F',{'letter':'F','accessKey':'\\uffff','shortDesc':'Alle Ergebnisse mit dem Buchstaben F anzeigen','styleClass':'ben-az-paneltab-item'}),new AdfRichCommandLink('pt1:r1:0:pt1:pti_Link_G',{'letter':'G','accessKey':'\\uffff','shortDesc':'Alle Ergebnisse mit dem Buchstaben G anzeigen','styleClass':'ben-az-paneltab-item'}),new AdfRichCommandLink('pt1:r1:0:pt1:pti_Link_H',{'letter':'H','accessKey':'\\uffff','shortDesc':'Alle Ergebnisse mit dem Buchstaben H anzeigen','styleClass':'ben-az-paneltab-item'}),new AdfRichCommandLink('pt1:r1:0:pt1:pti_Link_I',{'letter':'I','accessKey':'\\uffff','shortDesc':'Alle Ergebnisse mit dem Buchstaben I anzeigen','styleClass':'ben-az-paneltab-item'}),new AdfRichCommandLink('pt1:r1:0:pt1:pti_Link_J',{'letter':'J','accessKey':'\\uffff','shortDesc':'Alle Ergebnisse mit dem Buchstaben J anzeigen','styleClass':'ben-az-paneltab-item'}),new AdfRichCommandLink('pt1:r1:0:pt1:pti_Link_K',{'letter':'K','accessKey':'\\uffff','shortDesc':'Alle Ergebnisse mit dem Buchstaben K anzeigen','styleClass':'ben-az-paneltab-item'}),new AdfRichCommandLink('pt1:r1:0:pt1:pti_Link_L',{'letter':'L','accessKey':'\\uffff','shortDesc':'Alle Ergebnisse mit dem Buchstaben L anzeigen','styleClass':'ben-az-paneltab-item'}),new AdfRichCommandLink('pt1:r1:0:pt1:pti_Link_M',{'letter':'M','accessKey':'\\uffff','shortDesc':'Alle Ergebnisse mit dem Buchstaben M anzeigen','styleClass':'ben-az-paneltab-item'}),new AdfRichCommandLink('pt1:r1:0:pt1:pti_Link_N',{'letter':'N','accessKey':'\\uffff','shortDesc':'Alle Ergebnisse mit dem Buchstaben N anzeigen','styleClass':'ben-az-paneltab-item'}),new AdfRichCommandLink('pt1:r1:0:pt1:pti_Link_O',{'letter':'O','accessKey':'\\uffff','shortDesc':'Alle Ergebnisse mit dem Buchstaben O anzeigen','styleClass':'ben-az-paneltab-item'}),new AdfRichCommandLink('pt1:r1:0:pt1:pti_Link_P',{'letter':'P','accessKey':'\\uffff','shortDesc':'Alle Ergebnisse mit dem Buchstaben P anzeigen','styleClass':'ben-az-paneltab-item'}),new AdfRichCommandLink('pt1:r1:0:pt1:pti_Link_Q',{'letter':'Q','accessKey':'\\uffff','shortDesc':'Alle Ergebnisse mit dem Buchstaben Q anzeigen','styleClass':'ben-az-paneltab-item'}),new AdfRichCommandLink('pt1:r1:0:pt1:pti_Link_R',{'letter':'R','accessKey':'\\uffff','shortDesc':'Alle Ergebnisse mit dem Buchstaben R anzeigen','styleClass':'ben-az-paneltab-item'}),new AdfRichCommandLink('pt1:r1:0:pt1:pti_Link_S',{'letter':'S','accessKey':'\\uffff','shortDesc':'Alle Ergebnisse mit dem Buchstaben S anzeigen','styleClass':'ben-az-paneltab-item'}),new AdfRichCommandLink('pt1:r1:0:pt1:pti_Link_T',{'letter':'T','accessKey':'\\uffff','shortDesc':'Alle Ergebnisse mit dem Buchstaben T anzeigen','styleClass':'ben-az-paneltab-item'}),new AdfRichCommandLink('pt1:r1:0:pt1:pti_Link_U',{'letter':'U','accessKey':'\\uffff','shortDesc':'Alle Ergebnisse mit dem Buchstaben U anzeigen','styleClass':'ben-az-paneltab-item'}),new AdfRichCommandLink('pt1:r1:0:pt1:pti_Link_V',{'letter':'V','accessKey':'\\uffff','shortDesc':'Alle Ergebnisse mit dem Buchstaben V anzeigen','styleClass':'ben-az-paneltab-item'}),new AdfRichCommandLink('pt1:r1:0:pt1:pti_Link_W',{'letter':'W','accessKey':'\\uffff','shortDesc':'Alle Ergebnisse mit dem Buchstaben W anzeigen','styleClass':'ben-az-paneltab-item'}),new AdfRichCommandLink('pt1:r1:0:pt1:pti_Link_X',{'letter':'X','accessKey':'\\uffff','disabled':true,'shortDesc':'','styleClass':'ben-az-paneltab-item Disabled'}),new AdfRichCommandLink('pt1:r1:0:pt1:pti_Link_Y',{'letter':'Y','accessKey':'\\uffff','shortDesc':'Alle Ergebnisse mit dem Buchstaben Y anzeigen','styleClass':'ben-az-paneltab-item'}),new AdfRichCommandLink('pt1:r1:0:pt1:pti_Link_Z',{'letter':'Z','accessKey':'\\uffff','shortDesc':'Alle Ergebnisse mit dem Buchstaben Z anzeigen','styleClass':'ben-az-paneltab-item'}),new AdfRichCommandLink('pt1:r1:0:pt1:tbl_suche_az:dc_cl1',{'page':1,'accessKey':'\\uffff','text':'1','disabled':true,'shortDesc':'Zu Seite 1 von 7 springen','styleClass':'active'}),new AdfRichCommandLink('pt1:r1:0:pt1:tbl_suche_az:dc_cl1j_id_1',{'page':2,'accessKey':'\\uffff','text':'2','shortDesc':'Zu Seite 2 von 7 springen','styleClass':''}),new AdfRichCommandLink('pt1:r1:0:pt1:tbl_suche_az:dc_cl1j_id_2',{'page':3,'accessKey':'\\uffff','text':'3','shortDesc':'Zu Seite 3 von 7 springen','styleClass':''}),new AdfRichCommandLink('pt1:r1:0:pt1:tbl_suche_az:dc_cl1j_id_3',{'page':4,'accessKey':'\\uffff','text':'4','shortDesc':'Zu Seite 4 von 7 springen','styleClass':''}),new AdfRichCommandLink('pt1:r1:0:pt1:tbl_suche_az:dc_cl1j_id_4',{'page':5,'accessKey':'\\uffff','text':'5','shortDesc':'Zu Seite 5 von 7 springen','styleClass':''}),new AdfRichCommandLink('pt1:r1:0:pt1:tbl_suche_az:dc_cl1j_id_5',{'page':6,'accessKey':'\\uffff','text':'6','shortDesc':'Zu Seite 6 von 7 springen','styleClass':''}),new AdfRichCommandLink('pt1:r1:0:pt1:tbl_suche_az:dc_cl1j_id_6',{'page':7,'accessKey':'\\uffff','text':'7','shortDesc':'Zu Seite 7 von 7 springen','styleClass':''}),new AdfRichCommandLink('pt1:r1:0:pt1:tbl_suche_az:dc_cl4',{'pageForward':'true','accessKey':'\\uffff','text':' ','shortDesc':'Zu der n\\xe4chsten Seite springen','styleClass':'bapf-accessible-table-pagination-weiter'}),new AdfRichCommandLink('pt1:r1:0:pt1:tbl_suche_az:trinidadTableDetailLink_0_0',{'dkzID':94380,'partialSubmit':true,'accessKey':'\\uffff','text':'Abfall-, Entsorgungstechnik (grundst\\xe4ndig)','shortDesc':'Zur Beschreibung Abfall-, Entsorgungstechnik (grundst\\xe4ndig)','styleClass':'BAPFUnsichtbar'}),new AdfRichCommandLink('pt1:r1:0:pt1:tbl_suche_az:trinidadTableDetailLink_1_1',{'dkzID':93943,'partialSubmit':true,'accessKey':'\\uffff','text':'Abfall-, Entsorgungstechnik (weiterf\\xfchrend)','shortDesc':'Zur Beschreibung Abfall-, Entsorgungstechnik (weiterf\\xfchrend)','styleClass':'BAPFUnsichtbar'}),new AdfRichCommandLink('pt1:r1:0:pt1:tbl_suche_az:trinidadTableDetailLink_2_2',{'dkzID':8202,'partialSubmit':true,'accessKey':'\\uffff','text':'Abfallbeauftragte/r','shortDesc':'Zur Beschreibung Abfallbeauftragte/r','styleClass':'BAPFUnsichtbar'}),new AdfRichCommandLink('pt1:r1:0:pt1:tbl_suche_az:trinidadTableDetailLink_3_3',{'dkzID':10154,'partialSubmit':true,'accessKey':'\\uffff','text':'Abfallberater/in','shortDesc':'Zur Beschreibung Abfallberater/in','styleClass':'BAPFUnsichtbar'}),new AdfRichCommandLink('pt1:r1:0:pt1:tbl_suche_az:trinidadTableDetailLink_4_4',{'dkzID':4710,'partialSubmit':true,'accessKey':'\\uffff','text':'Abf\\xfcller/in','shortDesc':'Zur Beschreibung Abf\\xfcller/in','styleClass':'BAPFUnsichtbar'}),new AdfRichCommandLink('pt1:r1:0:pt1:tbl_suche_az:trinidadTableDetailLink_5_5',{'dkzID':10251,'partialSubmit':true,'accessKey':'\\uffff','text':'Abwassermeister/in','shortDesc':'Zur Beschreibung Abwassermeister/in','styleClass':'BAPFUnsichtbar'}),new AdfRichCommandLink('pt1:r1:0:pt1:tbl_suche_az:trinidadTableDetailLink_6_6',{'dkzID':14475,'partialSubmit':true,'accessKey':'\\uffff','text':'Account-Manager/in','shortDesc':'Zur Beschreibung Account-Manager/in','styleClass':'BAPFUnsichtbar'}),new AdfRichCommandLink('pt1:r1:0:pt1:tbl_suche_az:trinidadTableDetailLink_7_7',{'dkzID':15647,'partialSubmit':true,'accessKey':'\\uffff','text':'Aerobic-Trainer/in','shortDesc':'Zur Beschreibung Aerobic-Trainer/in','styleClass':'BAPFUnsichtbar'}),new AdfRichCommandLink('pt1:r1:0:pt1:tbl_suche_az:trinidadTableDetailLink_8_8',{'dkzID':132516,'partialSubmit':true,'accessKey':'\\uffff','text':'Affiliate-Manager/in','shortDesc':'Zur Beschreibung Affiliate-Manager/in','styleClass':'BAPFUnsichtbar'}),new AdfRichCommandLink('pt1:r1:0:pt1:tbl_suche_az:trinidadTableDetailLink_9_9',{'dkzID':59161,'partialSubmit':true,'accessKey':'\\uffff','text':'Afrikanist/in','shortDesc':'Zur Beschreibung Afrikanist/in','styleClass':'BAPFUnsichtbar'}),new AdfRichCommandLink('pt1:r1:0:pt1:tbl_suche_az:trinidadTableDetailLink_10_10',{'dkzID':94099,'partialSubmit':true,'accessKey':'\\uffff','text':'Afrikanistik (grundst\\xe4ndig)','shortDesc':'Zur Beschreibung Afrikanistik (grundst\\xe4ndig)','styleClass':'BAPFUnsichtbar'}),new AdfRichCommandLink('pt1:r1:0:pt1:tbl_suche_az:trinidadTableDetailLink_11_11',{'dkzID':94097,'partialSubmit':true,'accessKey':'\\uffff','text':'Afrikanistik (weiterf\\xfchrend)','shortDesc':'Zur Beschreibung Afrikanistik (weiterf\\xfchrend)','styleClass':'BAPFUnsichtbar'}),new AdfRichCommandLink('pt1:r1:0:pt1:tbl_suche_az:trinidadTableDetailLink_12_12',{'dkzID':133352,'partialSubmit':true,'accessKey':'\\uffff','text':'Agiler Coach / Scrum Master','shortDesc':'Zur Beschreibung Agiler Coach / Scrum Master','styleClass':'BAPFUnsichtbar'}),new AdfRichCommandLink('pt1:r1:0:pt1:tbl_suche_az:trinidadTableDetailLink_13_13',{'dkzID':59233,'partialSubmit':true,'accessKey':'\\uffff','text':'Agrarbiologe/-biologin','shortDesc':'Zur Beschreibung Agrarbiologe/-biologin','styleClass':'BAPFUnsichtbar'}),new AdfRichCommandLink('pt1:r1:0:pt1:tbl_suche_az:trinidadTableDetailLink_14_14',{'dkzID':94180,'partialSubmit':true,'accessKey':'\\uffff','text':'Agrarbiologie (grundst\\xe4ndig)','shortDesc':'Zur Beschreibung Agrarbiologie (grundst\\xe4ndig)','styleClass':'BAPFUnsichtbar'}),new AdfRichCommandLink('pt1:r1:0:pt1:tbl_suche_az:trinidadTableDetailLink_15_15',{'dkzID':94368,'partialSubmit':true,'accessKey':'\\uffff','text':'Agrarmanagement (grundst\\xe4ndig)','shortDesc':'Zur Beschreibung Agrarmanagement (grundst\\xe4ndig)','styleClass':'BAPFUnsichtbar'}),new AdfRichCommandLink('pt1:r1:0:pt1:tbl_suche_az:trinidadTableDetailLink_16_16',{'dkzID':94082,'partialSubmit':true,'accessKey':'\\uffff','text':'Agrarmanagement (weiterf\\xfchrend)','shortDesc':'Zur Beschreibung Agrarmanagement (weiterf\\xfchrend)','styleClass':'BAPFUnsichtbar'}),new AdfRichCommandLink('pt1:r1:0:pt1:tbl_suche_az:trinidadTableDetailLink_17_17',{'dkzID':90071,'partialSubmit':true,'accessKey':'\\uffff','text':'Agrarservicemeister/in','shortDesc':'Zur Beschreibung Agrarservicemeister/in','styleClass':'BAPFUnsichtbar'}),new AdfRichCommandLink('pt1:r1:0:pt1:tbl_suche_az:trinidadTableDetailLink_18_18',{'dkzID':93756,'partialSubmit':true,'accessKey':'\\uffff','text':'Agrarwissenschaft (grundst\\xe4ndig)','shortDesc':'Zur Beschreibung Agrarwissenschaft (grundst\\xe4ndig)','styleClass':'BAPFUnsichtbar'}),new AdfRichCommandLink('pt1:r1:0:pt1:tbl_suche_az:trinidadTableDetailLink_19_19',{'dkzID':94200,'partialSubmit':true,'accessKey':'\\uffff','text':'Agrarwissenschaft (weiterf\\xfchrend)','shortDesc':'Zur Beschreibung Agrarwissenschaft (weiterf\\xfchrend)','styleClass':'BAPFUnsichtbar'}),new AdfRichCommandLink('pt1:r1:0:pt1:tbl_suche_az:trinidadTableDetailLink_20_20',{'dkzID':58714,'partialSubmit':true,'accessKey':'\\uffff','text':'Agrarwissenschaftler/in','shortDesc':'Zur Beschreibung Agrarwissenschaftler/in','styleClass':'BAPFUnsichtbar'}),new AdfRichCommandLink('pt1:r1:0:pt1:tbl_suche_az:trinidadTableDetailLink_21_21',{'dkzID':100520,'partialSubmit':true,'accessKey':'\\uffff','text':'Aktuar/in','shortDesc':'Zur Beschreibung Aktuar/in','styleClass':'BAPFUnsichtbar'}),new AdfRichCommandLink('pt1:r1:0:pt1:tbl_suche_az:trinidadTableDetailLink_22_22',{'dkzID':59533,'partialSubmit':true,'accessKey':'\\uffff','text':'Akustiker/in','shortDesc':'Zur Beschreibung Akustiker/in','styleClass':'BAPFUnsichtbar'}),new AdfRichCommandLink('pt1:r1:0:pt1:tbl_suche_az:trinidadTableDetailLink_23_23',{'dkzID':30255,'partialSubmit':true,'accessKey':'\\uffff','text':'Algesiologe/Algesiologin','shortDesc':'Zur Beschreibung Algesiologe/Algesiologin','styleClass':'BAPFUnsichtbar'}),new AdfRichCommandLink('pt1:r1:0:pt1:tbl_suche_az:trinidadTableDetailLink_24_24',{'dkzID':29414,'partialSubmit':true,'accessKey':'\\uffff','text':'Alleinsteuermann/-frau','shortDesc':'Zur Beschreibung Alleinsteuermann/-frau','styleClass':'BAPFUnsichtbar'}),new AdfRichCommandLink('pt1:r1:0:pt1:tbl_suche_az:trinidadTableDetailLink_25_25',{'dkzID':94216,'partialSubmit':true,'accessKey':'\\uffff','text':'Allg. und vergleichende Kulturwissenschaft (grundst\\xe4ndig)','shortDesc':'Zur Beschreibung Allg. und vergleichende Kulturwissenschaft (grundst\\xe4ndig)','styleClass':'BAPFUnsichtbar'}),new AdfRichCommandLink('pt1:r1:0:pt1:tbl_suche_az:trinidadTableDetailLink_26_26',{'dkzID':93885,'partialSubmit':true,'accessKey':'\\uffff','text':'Allg. und vergleichende Kulturwissenschaft (weiterf\\xfchrend)','shortDesc':'Zur Beschreibung Allg. und vergleichende Kulturwissenschaft (weiterf\\xfchrend)','styleClass':'BAPFUnsichtbar'}),new AdfRichCommandLink('pt1:r1:0:pt1:tbl_suche_az:trinidadTableDetailLink_27_27',{'dkzID':93798,'partialSubmit':true,'accessKey':'\\uffff','text':'Allg. und vergleichende Literaturwissenschaft (grundst\\xe4ndig)','shortDesc':'Zur Beschreibung Allg. und vergleichende Literaturwissenschaft (grundst\\xe4ndig)','styleClass':'BAPFUnsichtbar'}),new AdfRichCommandLink('pt1:r1:0:pt1:tbl_suche_az:trinidadTableDetailLink_28_28',{'dkzID':94177,'partialSubmit':true,'accessKey':'\\uffff','text':'Allg. und vergleichende Literaturwissenschaft (weiterf\\xfchr.)','shortDesc':'Zur Beschreibung Allg. und vergleichende Literaturwissenschaft (weiterf\\xfchr.)','styleClass':'BAPFUnsichtbar'}),new AdfRichCommandLink('pt1:r1:0:pt1:tbl_suche_az:trinidadTableDetailLink_29_29',{'dkzID':93737,'partialSubmit':true,'accessKey':'\\uffff','text':'Allg. und vergleichende Sprachwissenschaft (grundst\\xe4ndig)','shortDesc':'Zur Beschreibung Allg. und vergleichende Sprachwissenschaft (grundst\\xe4ndig)','styleClass':'BAPFUnsichtbar'}),new AdfRichCommandLink('pt1:r1:0:pt1:tbl_suche_az:dc_cl2',{'page':1,'accessKey':'\\uffff','text':'1','disabled':true,'shortDesc':'Zu Seite 1 von 7 springen','styleClass':'active'}),new AdfRichCommandLink('pt1:r1:0:pt1:tbl_suche_az:dc_cl2j_id_1',{'page':2,'accessKey':'\\uffff','text':'2','shortDesc':'Zu Seite 2 von 7 springen','styleClass':''}),new AdfRichCommandLink('pt1:r1:0:pt1:tbl_suche_az:dc_cl2j_id_2',{'page':3,'accessKey':'\\uffff','text':'3','shortDesc':'Zu Seite 3 von 7 springen','styleClass':''}),new AdfRichCommandLink('pt1:r1:0:pt1:tbl_suche_az:dc_cl2j_id_3',{'page':4,'accessKey':'\\uffff','text':'4','shortDesc':'Zu Seite 4 von 7 springen','styleClass':''}),new AdfRichCommandLink('pt1:r1:0:pt1:tbl_suche_az:dc_cl2j_id_4',{'page':5,'accessKey':'\\uffff','text':'5','shortDesc':'Zu Seite 5 von 7 springen','styleClass':''}),new AdfRichCommandLink('pt1:r1:0:pt1:tbl_suche_az:dc_cl2j_id_5',{'page':6,'accessKey':'\\uffff','text':'6','shortDesc':'Zu Seite 6 von 7 springen','styleClass':''}),new AdfRichCommandLink('pt1:r1:0:pt1:tbl_suche_az:dc_cl2j_id_6',{'page':7,'accessKey':'\\uffff','text':'7','shortDesc':'Zu Seite 7 von 7 springen','styleClass':''}),new AdfRichCommandLink('pt1:r1:0:pt1:tbl_suche_az:dc_cl6',{'pageForward':'true','accessKey':'\\uffff','text':' ','shortDesc':'Zu der n\\xe4chsten Seite springen','styleClass':'bapf-accessible-table-pagination-weiter'}),new AdfRichRegion('pt1:r1:0:pt1:pts_r10'),new AdfRichCommandLink('pt1:r1:0:pt1:pts_r10:0:_afrCommandDelegate',{'partialSubmit':true}),new AdfRichRegion('pt1:r1:0:pt1:pts_r21'),new AdfRichCommandLink('pt1:r1:0:pt1:pts_r21:0:_afrCommandDelegate',{'partialSubmit':true}),new AdfRichRegion('pt1:r1:0:pt1:pt_r2'),new AdfRichCommandLink('pt1:r1:0:pt1:pt_r2:0:_afrCommandDelegate',{'partialSubmit':true}),new AdfRichRegion('pt1:r1:0:pt1:ptLinks'),new AdfRichCommandLink('pt1:r1:0:pt1:ptLinks:0:_afrCommandDelegate',{'partialSubmit':true}),new AdfRichRegion('pt1:r1:0:pt1:pts_r2'),new AdfRichPanelBox('pt1:r1:0:pt1:pts_r2:0:ben-merkliste',{'text':'Merkliste','showMaximize':false}),new AdfRichCommandButton('pt1:r1:0:pt1:pts_r2:0:ml_link',{'partialSubmit':true,'shortDesc':'Seite merken'}),new AdfRichCommandLink('pt1:r1:0:pt1:pts_r2:0:_afrCommandDelegate',{'partialSubmit':true}),new AdfRichRegion('pt1:r1:0:pt1:pts_r20'),new AdfRichCommandLink('pt1:r1:0:pt1:pts_r20:0:_afrCommandDelegate',{'partialSubmit':true}),new AdfRichRegion('pt1:r1:0:pt1:pt_footer'),new AdfRichRegion('pt1:r1:0:pt1:pt_footer:0:r1'),new AdfRichCommandLink('pt1:r1:0:pt1:pt_footer:0:r1:0:_afrCommandDelegate',{'partialSubmit':true}),new AdfRichCommandLink('pt1:r1:0:pt1:pt_footer:0:btnDruck1',{'behaviors':new AdfShowPrintablePageBehavior(),'accessKey':'\\uffff','text':'Seite drucken','shortDesc':'Seite drucken','styleClass':'ben-btn-druck'}),new AdfRichPopup('pt1:r1:0:pt1:pt_footer:0:druckauswahl_popup',{'_hasPopupCanceledListeners':true,'contentDelivery':'lazyUncached','animate':'false'}),new AdfRichCommandLink('pt1:r1:0:pt1:pt_footer:0:_afrCommandDelegate',{'partialSubmit':true}),new AdfRichCommandLink('pt1:r1:0:_afrCommandDelegate',{'partialSubmit':true}),new AdfRichDialog('d1::msgDlg',{'okVisible':false,'cancelVisible':false,'cancelTextAndAccessKey':'OK','modal':false,'resize':'on','title':''}),new AdfDialogServicePopupContainer('afr::DlgSrvPopupCtnr'),new AdfRichPopup('j_id46',{'contentDelivery':'immediate'}),new AdfRichDialog('j_id47',{'okVisible':false,'cancelVisible':false,'closeIconVisible':false}));AdfPage.PAGE.setDefaultMessageHandlerComponentId(\"pt1:r1:0:pt1:fehler\");AdfPage.PAGE.__initUserInactivityTimeout(600000);page.__setCssSelectorsUncompressed(true);AdfPage.PAGE.__setViewId('/index');var exScripts=AdfBootstrap._extendedScripts;for (var i=0;i<exScripts.length;i++){exScripts[i]()};AdfBootstrap._extendedScripts=null;AdfPage.PAGE.__onLoad();};window.onload=AdfBootstrap._onLoad;</script>, <script type=\"text/javascript\">AdfBootstrap._extendedScripts=[function(){(typeof(BAPF)!='undefined') && BAPF.fixView();},function(){BAPF.resizeAutosuggests()},function(){(typeof(BAPF)!='undefined') && BAPF.fixView();},function(){(typeof(BAPF)!='undefined') && BAPF.fixView();},function(){BAPF.patchADFSelect()},function(){(typeof(BAPF)!='undefined') && BAPF.fixView();},function(){(typeof(BAPF)!='undefined') && BAPF.fixView();},function(){(typeof(BAPF)!='undefined') && BAPF.fixView();},function(){(typeof(BAPF)!='undefined') && BAPF.fixView();}];</script>]]\n"
     ]
    }
   ],
   "source": [
    "# Get job IDs for letter A page 1/7\n",
    "start_link = 'https://berufenet.arbeitsagentur.de/berufenet/faces/index?path=null/sucheAZ&let=A'\n",
    "    \n",
    "link_s = str(start_link)\n",
    "page = requests.get(start_link)    \n",
    "soup = BS(page.content, 'html.parser')\n",
    "    \n",
    "main_clean = [soup.select('script[type=\"text/javascript\"]')]\n",
    "print(main_clean)"
   ]
  },
  {
   "cell_type": "code",
   "execution_count": null,
   "metadata": {},
   "outputs": [],
   "source": [
    "# Get job IDs for letter A page 1/7\n",
    "match = re.findall(\"'dkzID\\\\'\\:(\\d+)\",str(main_clean[0][-2]))"
   ]
  },
  {
   "cell_type": "code",
   "execution_count": 283,
   "metadata": {},
   "outputs": [],
   "source": [
    "def get_links(website):\n",
    "    \n",
    "    soup = BS(website)\n",
    "    main_clean = [soup.select('script[type=\"text/javascript\"]')]\n",
    "    match = re.findall(\"'dkzID\\\\'\\:(\\d+)\",str(main_clean[0][-2]))\n",
    "    \n",
    "    return match"
   ]
  },
  {
   "cell_type": "code",
   "execution_count": 163,
   "metadata": {},
   "outputs": [
    {
     "name": "stdout",
     "output_type": "stream",
     "text": [
      "93943\n",
      "(1, 5)\n",
      "8202\n",
      "(2, 5)\n"
     ]
    }
   ],
   "source": [
    "# Get competences for letter A page 1/7\n",
    "df_results = pd.DataFrame(columns=['ID','title','category','core_skills','further_skills'])\n",
    "\n",
    "for i in match[1:3]:\n",
    "    \n",
    "    ID = str(i)\n",
    "    link = \"https://berufenet.arbeitsagentur.de/berufenet/faces/index?path=null/sucheAZ/kurzbeschreibung/berufkompetenzen&dkz=\"+ID+\"&let=A\"\n",
    "    \n",
    "    # Get the whole page\n",
    "    page = requests.get(link)    \n",
    "    soup = BS(page.content, 'html.parser')\n",
    "    \n",
    "    # select relevant elements from page\n",
    "    title = [tr.get_text() for tr in soup.select('div[class=\"header-primary-text\"]')]\n",
    "    category = [tr.get_text() for tr in soup.select('div[class=\"header-secondary-text\"]')]\n",
    "    core_skills = [tr.get_text() for tr in soup.select('ul[id=\"b20-32_1_Content_1\"]')]\n",
    "    further_skills = [tr.get_text() for tr in soup.select('ul[id=\"b20-32_2_Content_2\"]')]\n",
    "    \n",
    "    # Clean skills\n",
    "    try:\n",
    "        core_skills = list(filter(lambda a: a != '', core_skills[0].splitlines()))\n",
    "    except:\n",
    "        core_skills = np.nan\n",
    "        \n",
    "    try:\n",
    "        further_skills = list(filter(lambda a: a != '', further_skills[0].splitlines()))\n",
    "    except:\n",
    "        further_skills = np.nan\n",
    "    \n",
    "    # Append results to df_results\n",
    "    new_row = {'ID':ID, 'title':title[0], 'category':category[0], 'core_skills':core_skills,'further_skills':further_skills}\n",
    "    df_results = df_results.append(new_row, ignore_index=True)\n",
    "    \n",
    "    print(i)\n",
    "    print(df_results.shape)"
   ]
  },
  {
   "cell_type": "code",
   "execution_count": 249,
   "metadata": {
    "collapsed": true,
    "jupyter": {
     "outputs_hidden": true
    }
   },
   "outputs": [
    {
     "name": "stdout",
     "output_type": "stream",
     "text": [
      "94380\n",
      "(1, 3)\n",
      "93943\n",
      "(2, 3)\n",
      "8202\n",
      "(3, 3)\n",
      "10154\n",
      "(4, 3)\n",
      "4710\n",
      "(5, 3)\n",
      "10251\n",
      "(6, 3)\n",
      "14475\n",
      "(7, 3)\n",
      "15647\n",
      "(8, 3)\n",
      "132516\n",
      "(9, 3)\n",
      "59161\n",
      "(10, 3)\n",
      "94099\n",
      "(11, 3)\n",
      "94097\n",
      "(12, 3)\n",
      "133352\n",
      "(13, 3)\n",
      "59233\n",
      "(14, 3)\n",
      "94180\n",
      "(15, 3)\n",
      "94368\n",
      "(16, 3)\n",
      "94082\n",
      "(17, 3)\n",
      "90071\n",
      "(18, 3)\n",
      "93756\n",
      "(19, 3)\n",
      "94200\n",
      "(20, 3)\n",
      "58714\n",
      "(21, 3)\n",
      "100520\n",
      "(22, 3)\n",
      "59533\n",
      "(23, 3)\n",
      "30255\n",
      "(24, 3)\n",
      "29414\n",
      "(25, 3)\n",
      "94216\n",
      "(26, 3)\n",
      "93885\n",
      "(27, 3)\n",
      "93798\n",
      "(28, 3)\n",
      "94177\n",
      "(29, 3)\n",
      "93737\n",
      "(30, 3)\n"
     ]
    }
   ],
   "source": [
    "# Get salary expectations for letter A page 1/7\n",
    "df_salary = pd.DataFrame(columns=['ID','salary_min','salary_max'])\n",
    "\n",
    "for i in match:\n",
    "    \n",
    "    ID = str(i)\n",
    "    link = \"https://berufenet.arbeitsagentur.de/berufenet/faces/index?path=null/sucheAZ/kurzbeschreibung/verdienstmoeglichkeiten&dkz=\"+ID+\"&let=A\"\n",
    "    \n",
    "    # Get the whole page\n",
    "    page = requests.get(link)    \n",
    "    soup = BS(page.content, 'html.parser')\n",
    "    \n",
    "    # select relevant elements from page\n",
    "    salary = [tr.get_text() for tr in soup.select('div[id=\"b50-0_0_Content_1\"]')]\n",
    "    \n",
    "    try:\n",
    "        salary = re.findall('[0-9]+.[0-9]+',salary[0])\n",
    "\n",
    "        if len(salary) == 0:\n",
    "                salary_min = np.nan\n",
    "                salary_max = np.nan\n",
    "\n",
    "        if len(salary) == 1:\n",
    "                salary_min = int(salary[0].replace('.', ''))\n",
    "                salary_max = np.nan\n",
    "\n",
    "        if len(salary) == 2:\n",
    "                salary_min = int(salary[0].replace('.', ''))\n",
    "                salary_max = int(salary[1].replace('.', ''))\n",
    "\n",
    "        if len(salary) > 2:\n",
    "                print(\"Problem with the salary\")\n",
    "                salary_min = \"Problem\"\n",
    "                salary_max = \"Problem\"\n",
    "\n",
    "    except:\n",
    "        salary_min = np.nan\n",
    "        salary_max = np.nan\n",
    "\n",
    "    # Append results to df_results\n",
    "    new_row = {'ID':ID, 'salary_min':salary_min,'salary_max':salary_max}\n",
    "    df_salary = df_salary.append(new_row, ignore_index=True)\n",
    "    \n",
    "    print(i)\n",
    "    print(df_salary.shape)"
   ]
  },
  {
   "cell_type": "code",
   "execution_count": 251,
   "metadata": {},
   "outputs": [],
   "source": [
    "# Merging results\n",
    "test = pd.merge(df_results,df_salary,on='ID',how='left')"
   ]
  },
  {
   "cell_type": "markdown",
   "metadata": {},
   "source": [
    "# Scraping BERUFENET"
   ]
  },
  {
   "cell_type": "markdown",
   "metadata": {},
   "source": [
    "This scraper collects the ID, name, required competences and salary expectations for all jobs on BERUFENET.\n",
    "\n",
    "Next to information on jobs the scraper includes study programs and continuing education programs. These can be filtered via category."
   ]
  },
  {
   "cell_type": "markdown",
   "metadata": {},
   "source": [
    "The below solution uses Google Chrome and requires the selenium chromedriver. Please adapt the path for the driver accordingly (you can simply save it together with the code).\n",
    "\n",
    "Mac users with Catalina or above need to enable the chromedriver. To do this open the terminal, navigate to the folder, and run the following command: \n",
    "\n",
    "xattr -d com.apple.quarantine chromedriver  "
   ]
  },
  {
   "cell_type": "markdown",
   "metadata": {},
   "source": [
    "## Libraries"
   ]
  },
  {
   "cell_type": "code",
   "execution_count": 1,
   "metadata": {},
   "outputs": [],
   "source": [
    "from selenium import webdriver\n",
    "from string import ascii_uppercase\n",
    "import requests\n",
    "import unicodedata\n",
    "import re\n",
    "import pandas as pd \n",
    "from bs4 import BeautifulSoup as BS\n",
    "import numpy as np"
   ]
  },
  {
   "cell_type": "markdown",
   "metadata": {},
   "source": [
    "## Functions"
   ]
  },
  {
   "cell_type": "code",
   "execution_count": 2,
   "metadata": {},
   "outputs": [],
   "source": [
    "# This functions extracts all job IDs from a given html source code\n",
    "\n",
    "def get_IDs(website):\n",
    "    \n",
    "    soup = BS(website)\n",
    "    main_clean = [soup.select('script[type=\"text/javascript\"]')]\n",
    "    match = re.findall(\"'dkzID\\\\'\\:(\\d+)\",str(main_clean[0][-2]))\n",
    "    \n",
    "    return match"
   ]
  },
  {
   "cell_type": "code",
   "execution_count": 3,
   "metadata": {},
   "outputs": [],
   "source": [
    "# This function collects job competences for one letter (A-Z) based on job IDs\n",
    "\n",
    "def get_competences(df_IDs,letter):\n",
    "    \n",
    "    df_results = pd.DataFrame(columns=['ID','title','category','core_skills','further_skills'])\n",
    "    \n",
    "    for i in df_IDs['ID']:\n",
    "        \n",
    "        print(i)\n",
    "        ID = str(i)\n",
    "        link = \"https://berufenet.arbeitsagentur.de/berufenet/faces/index?path=null/sucheAZ/kurzbeschreibung/berufkompetenzen&dkz=\"+ID+\"&let=\"+letter\n",
    "        \n",
    "        # Get the whole page\n",
    "        page = requests.get(link)    \n",
    "        soup = BS(page.content, 'html.parser')\n",
    "\n",
    "        # select relevant elements from page\n",
    "        title = [tr.get_text() for tr in soup.select('div[class=\"header-primary-text\"]')]\n",
    "        category = [tr.get_text() for tr in soup.select('div[class=\"header-secondary-text\"]')]\n",
    "        core_skills = [tr.get_text() for tr in soup.select('ul[id=\"b20-32_1_Content_1\"]')]\n",
    "        further_skills = [tr.get_text() for tr in soup.select('ul[id=\"b20-32_2_Content_2\"]')]\n",
    "\n",
    "        # Clean skills\n",
    "        try:\n",
    "            core_skills = list(filter(lambda a: a != '', core_skills[0].splitlines()))\n",
    "        except:\n",
    "            core_skills = np.nan\n",
    "\n",
    "        try:\n",
    "            further_skills = list(filter(lambda a: a != '', further_skills[0].splitlines()))\n",
    "        except:\n",
    "            further_skills = np.nan\n",
    "\n",
    "        # Append results to df_results\n",
    "        new_row = {'ID':ID, 'title':title[0], 'category':category[0], 'core_skills':core_skills,'further_skills':further_skills}\n",
    "        df_results = df_results.append(new_row, ignore_index=True)\n",
    "        \n",
    "    return df_results"
   ]
  },
  {
   "cell_type": "code",
   "execution_count": 4,
   "metadata": {},
   "outputs": [],
   "source": [
    "# This function collects the salary expectation for jobs starting with one letter (A-Z) based on job IDs\n",
    "\n",
    "def get_salary(df_IDs,letter):\n",
    "    \n",
    "    df_salary = pd.DataFrame(columns=['ID','salary_min','salary_max'])\n",
    "    \n",
    "    for i in df_IDs['ID']:\n",
    "    \n",
    "        print(i)\n",
    "        ID = str(i)\n",
    "        link = \"https://berufenet.arbeitsagentur.de/berufenet/faces/index?path=null/sucheAZ/kurzbeschreibung/verdienstmoeglichkeiten&dkz=\"+ID+\"&let=\"+letter\n",
    "\n",
    "        # Get the whole page\n",
    "        page = requests.get(link)    \n",
    "        soup = BS(page.content, 'html.parser')\n",
    "\n",
    "        # select relevant elements from page\n",
    "        salary = [tr.get_text() for tr in soup.select('div[id=\"b50-0_0_Content_1\"]')]\n",
    "\n",
    "        try:\n",
    "            salary = re.findall('[0-9]+.[0-9]+',salary[0])\n",
    "\n",
    "            if len(salary) == 0:\n",
    "                    salary_min = np.nan\n",
    "                    salary_max = np.nan\n",
    "\n",
    "            if len(salary) == 1:\n",
    "                    salary_min = int(salary[0].replace('.', ''))\n",
    "                    salary_max = np.nan\n",
    "\n",
    "            if len(salary) == 2:\n",
    "                    salary_min = int(salary[0].replace('.', ''))\n",
    "                    salary_max = int(salary[1].replace('.', ''))\n",
    "\n",
    "            if len(salary) > 2:\n",
    "                    print(\"Problem with the salary\")\n",
    "                    salary_min = \"Problem\"\n",
    "                    salary_max = \"Problem\"\n",
    "\n",
    "        except:\n",
    "            salary_min = np.nan\n",
    "            salary_max = np.nan\n",
    "\n",
    "        # Append results to df_salary\n",
    "        new_row = {'ID':ID, 'salary_min':salary_min,'salary_max':salary_max}\n",
    "        df_salary = df_salary.append(new_row, ignore_index=True)\n",
    "\n",
    "    return df_salary"
   ]
  },
  {
   "cell_type": "markdown",
   "metadata": {},
   "source": [
    "## Running the Scraper"
   ]
  },
  {
   "cell_type": "code",
   "execution_count": 5,
   "metadata": {},
   "outputs": [
    {
     "name": "stdout",
     "output_type": "stream",
     "text": [
      "End of Letter A\n",
      "End of Letter B\n",
      "End of Letter C\n",
      "End of Letter D\n",
      "End of Letter E\n",
      "End of Letter F\n",
      "End of Letter G\n",
      "End of Letter H\n",
      "End of Letter I\n",
      "End of Letter J\n",
      "End of Letter K\n",
      "End of Letter L\n",
      "End of Letter M\n",
      "End of Letter N\n",
      "End of Letter O\n",
      "End of Letter P\n",
      "End of Letter Q\n",
      "End of Letter R\n",
      "End of Letter S\n",
      "End of Letter T\n",
      "End of Letter U\n",
      "End of Letter V\n",
      "End of Letter W\n",
      "End of Letter X\n",
      "End of Letter Y\n",
      "End of Letter Z\n"
     ]
    }
   ],
   "source": [
    "### Collect all job IDs using Selenium ###\n",
    "\n",
    "driver = webdriver.Chrome(executable_path='/Users/oleteutloff/Desktop/Scraping_BERUFENET/chromedriver')\n",
    "\n",
    "# dataframe to store all IDs\n",
    "df_IDs = pd.DataFrame(columns=['letter','ID'])\n",
    "\n",
    "for letter in ascii_uppercase:\n",
    "    \n",
    "    url = 'https://berufenet.arbeitsagentur.de/berufenet/faces/index?path=null/sucheAZ&let='+letter\n",
    "    \n",
    "    # In case a letter does not have a link (there are no jobs for X)\n",
    "    try: \n",
    "        driver.get(url)\n",
    "    except:\n",
    "        print('Madonna')\n",
    "        continue # jump to the next letter\n",
    "        \n",
    "    page_number = 1\n",
    "\n",
    "    while True:\n",
    "        try:\n",
    "            # get the clickable link with the respective number\n",
    "            link = driver.find_element_by_link_text(str(page_number))\n",
    "            # click the link\n",
    "            link.click()\n",
    "            # save the source code of this new page\n",
    "            driver.get(driver.current_url)\n",
    "            # extract the IDs from the page\n",
    "            html = driver.page_source\n",
    "            df_intermediate = pd.DataFrame(get_IDs(html), columns=['ID'])\n",
    "\n",
    "            df_intermediate['letter'] = letter\n",
    "            df_IDs = df_IDs.append(df_intermediate)\n",
    "            \n",
    "        except:\n",
    "            print(\"End of Letter\",letter)\n",
    "            break\n",
    "        page_number += 1\n",
    "\n",
    "driver.close()"
   ]
  },
  {
   "cell_type": "code",
   "execution_count": 6,
   "metadata": {},
   "outputs": [],
   "source": [
    "# Exclude wrongly collected X\n",
    "df_IDs = df_IDs[df_IDs['letter']!='X']\n",
    "# save IDs\n",
    "df_IDs.to_csv('/Users/oleteutloff/Desktop/Scraping_BERUFENET/job_IDs.csv', , index=False)"
   ]
  },
  {
   "cell_type": "code",
   "execution_count": 5,
   "metadata": {},
   "outputs": [],
   "source": [
    "# Read in IDs\n",
    "df_IDs = pd.read_csv('/Users/oleteutloff/Desktop/Scraping_BERUFENET/job_IDs.csv')"
   ]
  },
  {
   "cell_type": "markdown",
   "metadata": {},
   "source": [
    "### Caveat\n",
    "\n",
    "For letter X there are no jobs. Accessing this letter makes the browser jump to the default which is letter A. Therefor, the scraper incorrectly collects the IDs of letter A also for letter X. For now, I simply exclude letter X from df_IDs and therefor from the data subsequent data collection."
   ]
  },
  {
   "cell_type": "code",
   "execution_count": 6,
   "metadata": {},
   "outputs": [],
   "source": [
    "df_IDs = df_IDs[df_IDs['letter']!='X']"
   ]
  },
  {
   "cell_type": "code",
   "execution_count": null,
   "metadata": {},
   "outputs": [
    {
     "name": "stdout",
     "output_type": "stream",
     "text": [
      "94380\n",
      "93943\n",
      "8202\n",
      "10154\n",
      "4710\n",
      "10251\n",
      "14475\n",
      "15647\n",
      "132516\n",
      "59161\n",
      "94099\n",
      "94097\n",
      "133352\n",
      "59233\n",
      "94180\n",
      "94368\n",
      "94082\n",
      "90071\n",
      "93756\n",
      "94200\n",
      "58714\n",
      "100520\n",
      "59533\n",
      "30255\n",
      "29414\n",
      "94216\n",
      "93885\n",
      "93798\n",
      "94177\n",
      "93737\n",
      "93924\n",
      "93863\n",
      "93967\n",
      "9063\n",
      "9065\n",
      "14640\n",
      "94172\n",
      "94234\n",
      "100535\n",
      "15615\n",
      "13952\n",
      "51027\n",
      "5281\n",
      "94283\n",
      "94036\n",
      "58681\n",
      "93860\n",
      "94360\n",
      "14509\n",
      "27308\n",
      "14324\n",
      "6773\n",
      "29047\n",
      "15164\n",
      "2968\n",
      "59169\n",
      "7754\n",
      "7070\n",
      "58682\n",
      "27476\n",
      "14991\n",
      "59171\n",
      "94355\n",
      "94297\n",
      "9131\n",
      "94382\n",
      "59173\n",
      "128340\n",
      "130772\n",
      "13982\n",
      "5215\n",
      "14801\n",
      "9765\n",
      "67308\n",
      "6006\n",
      "9791\n",
      "58573\n",
      "94306\n",
      "94213\n",
      "15706\n",
      "93960\n",
      "94016\n",
      "58685\n",
      "93604\n",
      "94174\n",
      "28504\n",
      "7024\n",
      "7023\n",
      "34754\n",
      "5291\n",
      "58709\n"
     ]
    }
   ],
   "source": [
    "### Get competences ###\n",
    "\n",
    "# Create dataframe to store the results\n",
    "df_results = pd.DataFrame(columns=['ID','title','category','core_skills','further_skills'])\n",
    "\n",
    "for letter in ascii_uppercase:\n",
    "    \n",
    "    try: \n",
    "        # Get competences for all jobs starting with given letter\n",
    "        df = get_competences(df_IDs[df_IDs['letter']==letter],letter)\n",
    "        #print('this is intermediate \\n',df)\n",
    "        # Append to the main results dataframe\n",
    "        df_results = df_results.append(df)\n",
    "        #print('This is result \\n',df_results)\n",
    "\n",
    "        print('End of letter',letter)\n",
    "        print(df_results.shape)\n",
    "        \n",
    "    except:\n",
    "        print('There was an exception for letter:',letter)\n",
    "        continue"
   ]
  },
  {
   "cell_type": "code",
   "execution_count": null,
   "metadata": {},
   "outputs": [],
   "source": [
    "### Get salary expectations ###\n",
    "\n",
    "# Create dataframe to store the results\n",
    "df_salary = pd.DataFrame(columns=['ID','salary_min','salary_max'])\n",
    "\n",
    "for letter in ascii_uppercase:\n",
    "    \n",
    "    try:\n",
    "        # Get competences for all jobs starting with given letter\n",
    "        df = get_salary(df_IDs[df_IDs['letter']==letter],letter)\n",
    "\n",
    "        # Append to the main results dataframe\n",
    "        df_salary = df_salary.append(df)\n",
    "\n",
    "        print('End of letter',letter)\n",
    "        print(df_salary.shape)\n",
    "        \n",
    "    except:\n",
    "        print('There was an exception for letter:',letter)\n",
    "        continue"
   ]
  },
  {
   "cell_type": "code",
   "execution_count": null,
   "metadata": {},
   "outputs": [],
   "source": [
    "df_results.shape"
   ]
  },
  {
   "cell_type": "code",
   "execution_count": null,
   "metadata": {},
   "outputs": [],
   "source": [
    "# exclude observations that are studyprograms ('Studienfach')\n",
    "df_results[df_results['category']!='Studienfach'].shape"
   ]
  },
  {
   "cell_type": "code",
   "execution_count": null,
   "metadata": {},
   "outputs": [],
   "source": [
    "# count remaining NAs in core skills\n",
    "df_results['core_skills'].value_counts(dropna=False)"
   ]
  },
  {
   "cell_type": "code",
   "execution_count": null,
   "metadata": {},
   "outputs": [],
   "source": [
    "### Combine results and write to csv ###\n",
    "\n",
    "# Merging results\n",
    "test = pd.merge(df_results,df_salary,on='ID',how='left')\n",
    "\n",
    "# writing to csv - ADAPT THE PATH according to your needs\n",
    "#df_results.to_csv('/Users/oleteutloff/Desktop/Scraping_BERUFENET/berufenet.csv')"
   ]
  },
  {
   "cell_type": "markdown",
   "metadata": {},
   "source": [
    "# OLD but keep for now"
   ]
  },
  {
   "cell_type": "code",
   "execution_count": 327,
   "metadata": {},
   "outputs": [
    {
     "name": "stdout",
     "output_type": "stream",
     "text": [
      "30\n",
      "60\n",
      "90\n",
      "120\n",
      "150\n",
      "180\n",
      "188\n",
      "End of Letter A\n"
     ]
    }
   ],
   "source": [
    "# Collect all job IDs using Selenium\n",
    "driver = webdriver.Chrome(executable_path='/Users/oleteutloff/Desktop/Scraping_BERUFENET/chromedriver')\n",
    "url = 'https://berufenet.arbeitsagentur.de/berufenet/faces/index?path=null/sucheAZ&let=A'\n",
    "driver.get(url)\n",
    "page_number = 1\n",
    "results = []\n",
    "\n",
    "while True:\n",
    "    try:\n",
    "        # get the clickable link with teh respective number\n",
    "        link = driver.find_element_by_link_text(str(page_number))\n",
    "        # click the link\n",
    "        link.click()\n",
    "        # save the source code of this new page\n",
    "        driver.get(driver.current_url)\n",
    "        # extract the IDs from the page\n",
    "        html = driver.page_source\n",
    "        results.extend(get_links(html))\n",
    "    except:\n",
    "        print(\"End of Letter A\")\n",
    "        break\n",
    "    page_number += 1\n",
    "    \n",
    "driver.close()"
   ]
  }
 ],
 "metadata": {
  "kernelspec": {
   "display_name": "Python 3",
   "language": "python",
   "name": "python3"
  },
  "language_info": {
   "codemirror_mode": {
    "name": "ipython",
    "version": 3
   },
   "file_extension": ".py",
   "mimetype": "text/x-python",
   "name": "python",
   "nbconvert_exporter": "python",
   "pygments_lexer": "ipython3",
   "version": "3.7.6"
  }
 },
 "nbformat": 4,
 "nbformat_minor": 4
}
